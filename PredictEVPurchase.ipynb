{
 "cells": [
  {
   "cell_type": "markdown",
   "metadata": {
    "toc": true
   },
   "source": [
    "<h1>Table of Contents<span class=\"tocSkip\"></span></h1>\n",
    "<div class=\"toc\"><ul class=\"toc-item\"></ul></div>"
   ]
  },
  {
   "cell_type": "code",
   "execution_count": 1,
   "metadata": {},
   "outputs": [
    {
     "name": "stderr",
     "output_type": "stream",
     "text": [
      "Using TensorFlow backend.\n"
     ]
    },
    {
     "data": {
      "text/html": [
       "<style>.container { width:100% !important; }</style>"
      ],
      "text/plain": [
       "<IPython.core.display.HTML object>"
      ]
     },
     "metadata": {},
     "output_type": "display_data"
    }
   ],
   "source": [
    "# Import Libraries\n",
    "\n",
    "import pandas as pd\n",
    "import pickle\n",
    "import matplotlib.pyplot as plt\n",
    "import numpy as np\n",
    "import seaborn as sns\n",
    "from imblearn.over_sampling import SMOTE\n",
    "from sklearn.model_selection import train_test_split\n",
    "from sklearn.ensemble import RandomForestClassifier\n",
    "from sklearn.linear_model import LogisticRegression\n",
    "from sklearn.utils import resample\n",
    "from sklearn.metrics import accuracy_score, f1_score, confusion_matrix, recall_score,  roc_auc_score, roc_curve, classification_report\n",
    "from xgboost import XGBClassifier\n",
    "from sklearn.preprocessing import StandardScaler, LabelEncoder\n",
    "\n",
    "%matplotlib inline\n",
    "from IPython.core.display import display, HTML\n",
    "display(HTML(\"<style>.container { width:100% !important; }</style>\"))\n",
    "\n",
    "import warnings\n",
    "# Suppress annoying harmless error.\n",
    "warnings.simplefilter('ignore')\n"
   ]
  },
  {
   "cell_type": "code",
   "execution_count": 3,
   "metadata": {},
   "outputs": [],
   "source": [
    "demographics=pd.read_pickle(\"./clean_demograph.pkl\")"
   ]
  },
  {
   "cell_type": "code",
   "execution_count": 5,
   "metadata": {},
   "outputs": [
    {
     "data": {
      "text/html": [
       "<div>\n",
       "<style scoped>\n",
       "    .dataframe tbody tr th:only-of-type {\n",
       "        vertical-align: middle;\n",
       "    }\n",
       "\n",
       "    .dataframe tbody tr th {\n",
       "        vertical-align: top;\n",
       "    }\n",
       "\n",
       "    .dataframe thead th {\n",
       "        text-align: right;\n",
       "    }\n",
       "</style>\n",
       "<table border=\"1\" class=\"dataframe\">\n",
       "  <thead>\n",
       "    <tr style=\"text-align: right;\">\n",
       "      <th></th>\n",
       "      <th>Sex</th>\n",
       "      <th>Age</th>\n",
       "      <th>Family Income</th>\n",
       "      <th>Life Cycle</th>\n",
       "      <th>Education</th>\n",
       "      <th>Race</th>\n",
       "      <th>Home Ownership</th>\n",
       "      <th>City</th>\n",
       "      <th>HH Size</th>\n",
       "      <th>HH Vehicles</th>\n",
       "      <th>HH Drivers</th>\n",
       "      <th>HH Workers</th>\n",
       "      <th>Urban</th>\n",
       "      <th>Primary Activity</th>\n",
       "      <th>Worker Status</th>\n",
       "      <th>BEV</th>\n",
       "      <th>Vehicle Age</th>\n",
       "      <th>Annual Miles</th>\n",
       "    </tr>\n",
       "  </thead>\n",
       "  <tbody>\n",
       "    <tr>\n",
       "      <th>0</th>\n",
       "      <td>1</td>\n",
       "      <td>0.887915</td>\n",
       "      <td>0.303329</td>\n",
       "      <td>9</td>\n",
       "      <td>2</td>\n",
       "      <td>1</td>\n",
       "      <td>0</td>\n",
       "      <td>33</td>\n",
       "      <td>0.208147</td>\n",
       "      <td>2.234702</td>\n",
       "      <td>1.249077</td>\n",
       "      <td>-0.326856</td>\n",
       "      <td>0</td>\n",
       "      <td>5</td>\n",
       "      <td>1</td>\n",
       "      <td>0</td>\n",
       "      <td>1.809396</td>\n",
       "      <td>-0.658035</td>\n",
       "    </tr>\n",
       "    <tr>\n",
       "      <th>2</th>\n",
       "      <td>0</td>\n",
       "      <td>0.840311</td>\n",
       "      <td>0.303329</td>\n",
       "      <td>9</td>\n",
       "      <td>2</td>\n",
       "      <td>1</td>\n",
       "      <td>0</td>\n",
       "      <td>33</td>\n",
       "      <td>0.208147</td>\n",
       "      <td>2.234702</td>\n",
       "      <td>1.249077</td>\n",
       "      <td>-0.326856</td>\n",
       "      <td>0</td>\n",
       "      <td>0</td>\n",
       "      <td>0</td>\n",
       "      <td>0</td>\n",
       "      <td>2.656992</td>\n",
       "      <td>0.094797</td>\n",
       "    </tr>\n",
       "    <tr>\n",
       "      <th>4</th>\n",
       "      <td>1</td>\n",
       "      <td>-0.968652</td>\n",
       "      <td>0.303329</td>\n",
       "      <td>9</td>\n",
       "      <td>1</td>\n",
       "      <td>1</td>\n",
       "      <td>0</td>\n",
       "      <td>33</td>\n",
       "      <td>0.208147</td>\n",
       "      <td>2.234702</td>\n",
       "      <td>1.249077</td>\n",
       "      <td>-0.326856</td>\n",
       "      <td>0</td>\n",
       "      <td>4</td>\n",
       "      <td>1</td>\n",
       "      <td>0</td>\n",
       "      <td>0.283723</td>\n",
       "      <td>-0.649762</td>\n",
       "    </tr>\n",
       "    <tr>\n",
       "      <th>6</th>\n",
       "      <td>0</td>\n",
       "      <td>0.316664</td>\n",
       "      <td>0.843135</td>\n",
       "      <td>1</td>\n",
       "      <td>4</td>\n",
       "      <td>0</td>\n",
       "      <td>0</td>\n",
       "      <td>49</td>\n",
       "      <td>-0.527457</td>\n",
       "      <td>1.380636</td>\n",
       "      <td>-0.043644</td>\n",
       "      <td>0.705862</td>\n",
       "      <td>3</td>\n",
       "      <td>0</td>\n",
       "      <td>0</td>\n",
       "      <td>0</td>\n",
       "      <td>0.792281</td>\n",
       "      <td>0.094797</td>\n",
       "    </tr>\n",
       "    <tr>\n",
       "      <th>8</th>\n",
       "      <td>1</td>\n",
       "      <td>-0.159379</td>\n",
       "      <td>2.192652</td>\n",
       "      <td>0</td>\n",
       "      <td>4</td>\n",
       "      <td>0</td>\n",
       "      <td>0</td>\n",
       "      <td>32</td>\n",
       "      <td>-1.263062</td>\n",
       "      <td>-0.327497</td>\n",
       "      <td>-1.336366</td>\n",
       "      <td>-0.326856</td>\n",
       "      <td>0</td>\n",
       "      <td>0</td>\n",
       "      <td>0</td>\n",
       "      <td>0</td>\n",
       "      <td>0.792281</td>\n",
       "      <td>-0.236118</td>\n",
       "    </tr>\n",
       "  </tbody>\n",
       "</table>\n",
       "</div>"
      ],
      "text/plain": [
       "   Sex       Age  Family Income  Life Cycle  Education  Race  Home Ownership  \\\n",
       "0    1  0.887915       0.303329           9          2     1               0   \n",
       "2    0  0.840311       0.303329           9          2     1               0   \n",
       "4    1 -0.968652       0.303329           9          1     1               0   \n",
       "6    0  0.316664       0.843135           1          4     0               0   \n",
       "8    1 -0.159379       2.192652           0          4     0               0   \n",
       "\n",
       "   City   HH Size  HH Vehicles  HH Drivers  HH Workers  Urban  \\\n",
       "0    33  0.208147     2.234702    1.249077   -0.326856      0   \n",
       "2    33  0.208147     2.234702    1.249077   -0.326856      0   \n",
       "4    33  0.208147     2.234702    1.249077   -0.326856      0   \n",
       "6    49 -0.527457     1.380636   -0.043644    0.705862      3   \n",
       "8    32 -1.263062    -0.327497   -1.336366   -0.326856      0   \n",
       "\n",
       "   Primary Activity  Worker Status  BEV  Vehicle Age  Annual Miles  \n",
       "0                 5              1    0     1.809396     -0.658035  \n",
       "2                 0              0    0     2.656992      0.094797  \n",
       "4                 4              1    0     0.283723     -0.649762  \n",
       "6                 0              0    0     0.792281      0.094797  \n",
       "8                 0              0    0     0.792281     -0.236118  "
      ]
     },
     "execution_count": 5,
     "metadata": {},
     "output_type": "execute_result"
    }
   ],
   "source": [
    "demographics.head()"
   ]
  },
  {
   "cell_type": "code",
   "execution_count": 6,
   "metadata": {},
   "outputs": [],
   "source": [
    "y = demographics.BEV\n",
    "X = demographics.drop(['BEV'], axis=1)\n",
    "X_train, X_test, y_train, y_test = train_test_split(X, y, test_size=0.25, random_state=0)"
   ]
  },
  {
   "cell_type": "code",
   "execution_count": 7,
   "metadata": {},
   "outputs": [],
   "source": [
    "df = pd.concat([X_train, y_train], axis=1)\n",
    "bought = df[df.BEV==1]\n",
    "didntbuy = df[df.BEV==0]\n",
    "\n",
    "downsample = resample(didntbuy,replace = False, n_samples = len(bought)) \n",
    "downsampled = pd.concat([downsample, bought])\n",
    "\n",
    "y_train = downsampled['BEV']\n",
    "X_train = downsampled.drop('BEV',axis=1)"
   ]
  },
  {
   "cell_type": "code",
   "execution_count": 11,
   "metadata": {},
   "outputs": [],
   "source": [
    "def model_results(model, y_pred):\n",
    "    print('Train set score:\\t\\t', round(model.score(X_train, y_train),2))\n",
    "    print('Best cross validation score:\\t', round(model.best_score_,2))\n",
    "    print('Test set score:\\t\\t\\t', round(model.score(X_test, y_test),2))\n",
    "    print('Report:')\n",
    "    print(classification_report(y_test, y_pred))\n",
    "    conf_mat = confusion_matrix(y_test, y_pred)\n",
    "    sns.heatmap(conf_mat,annot=True, cbar=True, fmt='d',cmap='mako_r')\n",
    "    plt.show()"
   ]
  },
  {
   "cell_type": "code",
   "execution_count": 12,
   "metadata": {},
   "outputs": [
    {
     "name": "stdout",
     "output_type": "stream",
     "text": [
      "Train set score:\t\t 1.0\n",
      "Best cross validation score:\t 0.91\n",
      "Test set score:\t\t\t 0.92\n",
      "Report:\n",
      "              precision    recall  f1-score   support\n",
      "\n",
      "           0       1.00      0.82      0.90     51801\n",
      "           1       0.01      0.87      0.03       152\n",
      "\n",
      "    accuracy                           0.82     51953\n",
      "   macro avg       0.51      0.84      0.46     51953\n",
      "weighted avg       1.00      0.82      0.90     51953\n",
      "\n"
     ]
    },
    {
     "data": {
      "image/png": "[encoded data removed]",
      "text/plain": [
       "<Figure size 432x288 with 2 Axes>"
      ]
     },
     "metadata": {
      "needs_background": "light"
     },
     "output_type": "display_data"
    }
   ],
   "source": [
    "results=pd.DataFrame()\n",
    "from imblearn.pipeline import Pipeline as imbPipeline\n",
    "from sklearn.model_selection import cross_val_score, train_test_split, GridSearchCV\n",
    "pipe1 = imbPipeline([\n",
    "    ('oversample', SMOTE(random_state=0)),\n",
    "    ('rfc', RandomForestClassifier(random_state=27, n_jobs=-1))\n",
    "    ])\n",
    "\n",
    "param_grid = {'rfc__max_depth': [20, 50, 100],\n",
    "              'rfc__max_features': ['auto'],\n",
    "              'rfc__min_samples_leaf': [1, 2],\n",
    "              'rfc__min_samples_split': [2, 3],\n",
    "              'rfc__n_estimators': [10, 50, 100],\n",
    "              'rfc__criterion': ['gini', 'entropy']}\n",
    "grid_rfc = GridSearchCV(pipe1, param_grid, return_train_score=False,\n",
    "                    n_jobs=-1, cv=5, scoring='roc_auc')\n",
    "grid_rfc.fit(X_train, y_train)\n",
    "\n",
    "#Store results\n",
    "y_pred_proba = grid_rfc.predict_proba(X_test)[::,1]\n",
    "fpr, tpr, _ = roc_curve(y_test,  y_pred_proba)\n",
    "results.loc[0, :] = [grid_rfc.score(X_test, y_test), fpr, tpr]\n",
    "\n",
    "# Print results\n",
    "y_pred = grid_rfc.predict(X_test)\n",
    "model_results(grid_rfc, y_pred)"
   ]
  },
  {
   "cell_type": "code",
   "execution_count": 13,
   "metadata": {},
   "outputs": [
    {
     "name": "stdout",
     "output_type": "stream",
     "text": [
      "Train set score:\t\t 0.88\n",
      "Best cross validation score:\t 0.86\n",
      "Test set score:\t\t\t 0.85\n",
      "Report:\n",
      "              precision    recall  f1-score   support\n",
      "\n",
      "           0       1.00      0.76      0.87     51801\n",
      "           1       0.01      0.79      0.02       152\n",
      "\n",
      "    accuracy                           0.76     51953\n",
      "   macro avg       0.50      0.78      0.44     51953\n",
      "weighted avg       1.00      0.76      0.86     51953\n",
      "\n"
     ]
    },
    {
     "data": {
      "image/png": "[encoded data removed]",
      "text/plain": [
       "<Figure size 432x288 with 2 Axes>"
      ]
     },
     "metadata": {
      "needs_background": "light"
     },
     "output_type": "display_data"
    }
   ],
   "source": [
    "from imblearn.pipeline import Pipeline as imbPipeline\n",
    "from sklearn.model_selection import StratifiedKFold\n",
    "pipe4 = imbPipeline([\n",
    "    ('oversample', SMOTE(random_state=0)),\n",
    "    ('lr', LogisticRegression(random_state=27))\n",
    "    ])\n",
    "\n",
    "param_grid = {'lr__C': [.1, 1, 10],\n",
    "              'lr__penalty': ['l2', 'l1']} #, \n",
    "grid_lr = GridSearchCV(pipe4, param_grid, return_train_score=False,\n",
    "                    n_jobs=-1, cv=5, scoring='roc_auc')\n",
    "grid_lr.fit(X_train, y_train)\n",
    "\n",
    "#Store results\n",
    "y_pred_proba = grid_lr.predict_proba(X_test)[::,1]\n",
    "fpr, tpr, _ = roc_curve(y_test,  y_pred_proba)\n",
    "results.loc[3, :] = [grid_lr.score(X_test, y_test), fpr, tpr]\n",
    "\n",
    "# Print results\n",
    "y_pred = grid_lr.predict(X_test)\n",
    "model_results(grid_lr, y_pred)"
   ]
  },
  {
   "cell_type": "code",
   "execution_count": 24,
   "metadata": {},
   "outputs": [
    {
     "data": {
      "text/plain": [
       "RandomForestClassifier(bootstrap=True, class_weight=None, criterion='entropy',\n",
       "                       max_depth=100, max_features='auto', max_leaf_nodes=None,\n",
       "                       min_impurity_decrease=0.0, min_impurity_split=None,\n",
       "                       min_samples_leaf=1, min_samples_split=3,\n",
       "                       min_weight_fraction_leaf=0.0, n_estimators=100,\n",
       "                       n_jobs=-1, oob_score=False, random_state=27, verbose=0,\n",
       "                       warm_start=False)"
      ]
     },
     "execution_count": 24,
     "metadata": {},
     "output_type": "execute_result"
    }
   ],
   "source": [
    "grid_rfc.best_estimator_[1]"
   ]
  },
  {
   "cell_type": "code",
   "execution_count": 28,
   "metadata": {},
   "outputs": [
    {
     "data": {
      "text/plain": [
       "Text(0.5, 0, 'Relative Importance')"
      ]
     },
     "execution_count": 28,
     "metadata": {},
     "output_type": "execute_result"
    },
    {
     "data": {
      "image/png": "[encoded data removed]",
      "text/plain": [
       "<Figure size 432x288 with 1 Axes>"
      ]
     },
     "metadata": {
      "needs_background": "light"
     },
     "output_type": "display_data"
    }
   ],
   "source": [
    "rfc = RandomForestClassifier(bootstrap=True, class_weight=None,\n",
    "                                        criterion='entropy', max_depth=100,\n",
    "                                        max_features='auto',\n",
    "                                        max_leaf_nodes=None,\n",
    "                                        min_impurity_decrease=0.0,\n",
    "                                        min_impurity_split=None,\n",
    "                                        min_samples_leaf=1, min_samples_split=3,\n",
    "                                        min_weight_fraction_leaf=0.0,\n",
    "                                        n_estimators=100, n_jobs=-1,\n",
    "                                        oob_score=False, random_state=27,\n",
    "                                        verbose=0, warm_start=False)\n",
    "rfc.fit(X_train, y_train) \n",
    "pred_rfc =rfc.predict(X_test) \n",
    "\n",
    "features=X_train.columns\n",
    "importances = rfc.feature_importances_\n",
    "indices = np.argsort(importances)\n",
    "\n",
    "plt.figure(1)\n",
    "plt.title('Feature Importances')\n",
    "plt.barh(range(len(indices)), importances[indices], color='b', align='center')\n",
    "plt.yticks(range(len(indices)), features[indices])\n",
    "plt.xlabel('Relative Importance')"
   ]
  },
  {
   "cell_type": "code",
   "execution_count": 30,
   "metadata": {},
   "outputs": [
    {
     "data": {
      "image/png": "[encoded data removed]",
      "text/plain": [
       "<Figure size 432x288 with 1 Axes>"
      ]
     },
     "metadata": {
      "needs_background": "light"
     },
     "output_type": "display_data"
    }
   ],
   "source": [
    "xgb = XGBClassifier()\n",
    "xgb.fit(X_train,y_train)\n",
    "\n",
    "importances = xgb.feature_importances_\n",
    "indices = np.argsort(importances)\n",
    "\n",
    "plt.figure(1)\n",
    "plt.title('Feature Importances')\n",
    "plt.barh(range(len(indices)), importances[indices], color='b', align='center')\n",
    "plt.yticks(range(len(indices)), features[indices])\n",
    "plt.xlabel('Relative Importance')\n",
    "plt.show()"
   ]
  },
  {
   "cell_type": "code",
   "execution_count": null,
   "metadata": {},
   "outputs": [],
   "source": []
  }
 ],
 "metadata": {
  "kernelspec": {
   "display_name": "Python 3",
   "language": "python",
   "name": "python3"
  },
  "language_info": {
   "codemirror_mode": {
    "name": "ipython",
    "version": 3
   },
   "file_extension": ".py",
   "mimetype": "text/x-python",
   "name": "python",
   "nbconvert_exporter": "python",
   "pygments_lexer": "ipython3",
   "version": "3.7.3"
  },
  "toc": {
   "base_numbering": 1,
   "nav_menu": {},
   "number_sections": true,
   "sideBar": true,
   "skip_h1_title": false,
   "title_cell": "Table of Contents",
   "title_sidebar": "Contents",
   "toc_cell": true,
   "toc_position": {},
   "toc_section_display": true,
   "toc_window_display": false
  },
  "varInspector": {
   "cols": {
    "lenName": 16,
    "lenType": 16,
    "lenVar": 40
   },
   "kernels_config": {
    "python": {
     "delete_cmd_postfix": "",
     "delete_cmd_prefix": "del ",
     "library": "var_list.py",
     "varRefreshCmd": "print(var_dic_list())"
    },
    "r": {
     "delete_cmd_postfix": ") ",
     "delete_cmd_prefix": "rm(",
     "library": "var_list.r",
     "varRefreshCmd": "cat(var_dic_list()) "
    }
   },
   "types_to_exclude": [
    "module",
    "function",
    "builtin_function_or_method",
    "instance",
    "_Feature"
   ],
   "window_display": false
  }
 },
 "nbformat": 4,
 "nbformat_minor": 2
}
